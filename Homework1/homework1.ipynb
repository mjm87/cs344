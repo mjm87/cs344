{
 "cells": [
  {
   "cell_type": "markdown",
   "metadata": {
    "collapsed": true
   },
   "source": [
    "Homework 1"
   ]
  },
  {
   "cell_type": "code",
   "execution_count": null,
   "metadata": {},
   "outputs": [],
   "source": [
    "from search import Problem, hill_climbing, simulated_annealing, exp_schedule\n",
    "from csp import backtracking_search, mrv, forward_checking, parse_neighbors, CSP, min_conflicts\n",
    "import random"
   ]
  },
  {
   "cell_type": "markdown",
   "metadata": {},
   "source": [
    "## Question 1: Introspection in AI?"
   ]
  },
  {
   "cell_type": "markdown",
   "metadata": {},
   "source": [
    "Introspection as I understand it has largely been abandoned by psychology in any attempt to further our understanding of our own minds. It appears that we are not actually well enough aware of our own mental processes to explain them in a way that science can take advantage of. If it doesn't seem useful to psychology, I have a feeling it would prove quite challenging to attempt to describe our mental processes in a way that an AI could make better sense of it. One challenge would simply be the transcription. We could write down our thoughts, and perhaps an AI could do something with them or generate similar-ish thoughts, but the input/output seems to be limited to text-based interfaces which seem quite limiting for any useful applications. However even if we could get a computer to generate similar such \"thoughts\" I suspect that the actual generation of the thoughts in our brains is beneath the thought-level that we typically have access to and is reliant on subconscious processes that would be missing in an AI built off of surface level thoughts."
   ]
  },
  {
   "cell_type": "markdown",
   "metadata": {},
   "source": [
    "## Question 2: Travelling Salesman Problem"
   ]
  },
  {
   "cell_type": "markdown",
   "metadata": {},
   "source": [
    "I represented my state simply as a list of cities and my actions then were random swappings of cities. So each action set being generated was selecting a random city and swapping it with n (generally 10) potential candidate cities. (technically this was up to n since it could randomly choose a city being swapped in a previous action). And the cost or value of each state was just the combined length of the journey."
   ]
  },
  {
   "cell_type": "code",
   "execution_count": 3,
   "metadata": {},
   "outputs": [],
   "source": [
    "class TSP(Problem):\n",
    "\n",
    "    # constructor\n",
    "    def __init__(self, initial, distances, n=10):\n",
    "        self.initial = initial\n",
    "        self.distances = distances\n",
    "        self.n = n\n",
    "\n",
    "    # some random actions from the given state\n",
    "    def actions(self, state):\n",
    "        actions = []\n",
    "        if state is not None:\n",
    "\n",
    "            # choose up to n-1 random positions to swap with position a\n",
    "            a = random.randrange(1, len(state)-1)\n",
    "            for i in range(1, self.n-1):\n",
    "                b = random.randrange(1, len(state)-1)\n",
    "                while a == b:\n",
    "                    b = random.randrange(1, len(state)-1)\n",
    "                actions.append([a, b])\n",
    "\n",
    "            # add an additional swap which will swap the start/ending points with some other option\n",
    "            actions.append(['swap', random.randrange(1, len(state)-1)])\n",
    "\n",
    "        return actions\n",
    "\n",
    "    # the resulting state\n",
    "    def result(self, state, action):\n",
    "\n",
    "        new_state = state[:]\n",
    "\n",
    "        # swapping the endpoints out for a middle point\n",
    "        if action[0] == 'swap':\n",
    "            temp = new_state[action[1]]\n",
    "            new_state[action[1]] = new_state[0]\n",
    "            new_state[len(state)-1] = temp\n",
    "            new_state[0] = temp\n",
    "        # just swapping the two given points\n",
    "        else:\n",
    "            temp = new_state[action[0]]\n",
    "            new_state[action[0]] = new_state[action[1]]\n",
    "            new_state[action[1]] = temp\n",
    "\n",
    "        return new_state\n",
    "\n",
    "    # the distance of the trip\n",
    "    def value(self, cities):\n",
    "        cost = 0\n",
    "        last_city = None\n",
    "        for city in cities:\n",
    "            if last_city is None:\n",
    "                last_city = city\n",
    "            else:\n",
    "                cost += self.distances[str(last_city) + \" --> \" + str(city)]\n",
    "                last_city = city\n",
    "\n",
    "        return -cost"
   ]
  },
  {
   "cell_type": "markdown",
   "metadata": {},
   "source": [
    "To start off with I defined a small world problem with 4 \"cities\" as the letters A-D and the distances 1-6 between each. The best solutions after going through the permutations by hand were ABDC and CDBA."
   ]
  },
  {
   "cell_type": "code",
   "execution_count": 4,
   "metadata": {},
   "outputs": [],
   "source": [
    "    cities = ['D', 'A', 'C', 'B', 'D']\n",
    "    distances_between_cities = {\n",
    "        \"A --> B\": 1,\n",
    "        \"B --> A\": 1,\n",
    "        \"A --> D\": 5,\n",
    "        \"D --> A\": 5,\n",
    "        \"A --> C\": 4,\n",
    "        \"C --> A\": 4,\n",
    "        \"B --> C\": 6,\n",
    "        \"C --> B\": 6,\n",
    "        \"B --> D\": 2,\n",
    "        \"D --> B\": 2,\n",
    "        \"C --> D\": 3,\n",
    "        \"D --> C\": 3\n",
    "    }"
   ]
  },
  {
   "cell_type": "markdown",
   "metadata": {},
   "source": [
    "So I selected one of the worst states for the initial state"
   ]
  },
  {
   "cell_type": "code",
   "execution_count": 5,
   "metadata": {},
   "outputs": [
    {
     "name": "stdout",
     "output_type": "stream",
     "text": [
      "initial: ['D', 'A', 'C', 'B', 'D']\tvalue: -17\n"
     ]
    }
   ],
   "source": [
    "tsp = TSP(cities, distances_between_cities)\n",
    "print(\"initial: \" + str(cities) + \"\\tvalue: \" +str(tsp.value(cities)))\n"
   ]
  },
  {
   "cell_type": "markdown",
   "metadata": {},
   "source": [
    "Thankfully, however, Hill-climbing and Simulated-Annealing can find much better options than the default."
   ]
  },
  {
   "cell_type": "code",
   "execution_count": 6,
   "metadata": {},
   "outputs": [
    {
     "name": "stdout",
     "output_type": "stream",
     "text": [
      "World of size 5 with 30 per algorithm\n",
      "Hill Climbing:\t['D', 'C', 'A', 'B', 'D']\tbest: -10\tavg: -10.0\n",
      "Annealing:\t['B', 'D', 'C', 'A', 'B']\tbest: -10\tavg: -10.0\n"
     ]
    }
   ],
   "source": [
    "def compare_algorithms_for_this_world(world, dist_dict, attempts=30, print_solution=False):\n",
    "\n",
    "    # using the initial as our baseline\n",
    "    best_hill_climber = world\n",
    "    best_annealing = world\n",
    "\n",
    "    # initializing averages\n",
    "    avg_hill_climber = 0\n",
    "    avg_annealing = 0\n",
    "\n",
    "    # our small world problem representation\n",
    "    tsp = TSP(world, dist_dict)\n",
    "\n",
    "    # try both algorithms over and over\n",
    "    for i in range(0, attempts):\n",
    "\n",
    "        hill_climber = hill_climbing(tsp)\n",
    "        annealing = simulated_annealing(tsp, exp_schedule(k=20, lam=0.005, limit=1000))\n",
    "\n",
    "        # keep track of the best solutions\n",
    "        if tsp.value(hill_climber) > tsp.value(best_hill_climber):\n",
    "                best_hill_climber = hill_climber\n",
    "        if tsp.value(annealing) > tsp.value(best_annealing):\n",
    "            best_annealing = annealing\n",
    "\n",
    "        # maintain average values\n",
    "        avg_hill_climber += tsp.value(hill_climber)\n",
    "        avg_annealing += tsp.value(annealing)\n",
    "\n",
    "    # Calculate the average\n",
    "    avg_hill_climber /= attempts\n",
    "    avg_annealing /= attempts\n",
    "\n",
    "    # Ouptut: world statistics\n",
    "    print(\"World of size \" + str(len(world)) + \" with \" + str(attempts) + \" per algorithm\")\n",
    "\n",
    "    hill_path = str(best_hill_climber)\n",
    "    annealing_path = str(best_annealing)\n",
    "\n",
    "    if not print_solution:\n",
    "        hill_path = \"\"\n",
    "        annealing_path = \"\"\n",
    "\n",
    "    # Output: hill climbing results\n",
    "    print(\"Hill Climbing:\\t\" + hill_path +\n",
    "          \"\\tbest: \" + str(tsp.value(best_hill_climber)) +\n",
    "          \"\\tavg: \" + str(round(avg_hill_climber, 2)))\n",
    "\n",
    "    # Output: simulated annealing results\n",
    "    print(\"Annealing:\\t\" + annealing_path +\n",
    "          \"\\tbest: \" + str(tsp.value(best_annealing)) +\n",
    "          \"\\tavg: \" + str(round(avg_annealing, 2)))\n",
    "\n",
    "# test out the small world\n",
    "compare_algorithms_for_this_world(cities, distances_between_cities, print_solution=True)"
   ]
  },
  {
   "cell_type": "markdown",
   "metadata": {},
   "source": [
    "So while after 30 tries they've both almost always found one of the best solutions, it does appear that hill climbing appears to miss the mark a little more often, resulting in an average further from the optimal solution. Granted, for such a small world it's not surprising that they both are able to find an optimal solution pretty quickly."
   ]
  },
  {
   "cell_type": "markdown",
   "metadata": {},
   "source": [
    "However, to create slightly larger and more complicated worlds, we can generate completely random scenarios for us to play around with as well. Beneath is a fictitious world generator."
   ]
  },
  {
   "cell_type": "code",
   "execution_count": 7,
   "metadata": {},
   "outputs": [
    {
     "name": "stdout",
     "output_type": "stream",
     "text": [
      "World of size 4 with 30 per algorithm\n",
      "Hill Climbing:\t\tbest: -14\tavg: -14.0\n",
      "Annealing:\t\tbest: -14\tavg: -14.0\n",
      "World of size 8 with 30 per algorithm\n",
      "Hill Climbing:\t\tbest: -15\tavg: -18.93\n",
      "Annealing:\t\tbest: -16\tavg: -16.0\n",
      "World of size 16 with 30 per algorithm\n",
      "Hill Climbing:\t\tbest: -43\tavg: -57.47\n",
      "Annealing:\t\tbest: -34\tavg: -38.1\n",
      "World of size 32 with 30 per algorithm\n",
      "Hill Climbing:\t\tbest: -91\tavg: -118.17\n",
      "Annealing:\t\tbest: -48\tavg: -61.27\n",
      "World of size 64 with 30 per algorithm\n",
      "Hill Climbing:\t\tbest: -215\tavg: -265.2\n",
      "Annealing:\t\tbest: -132\tavg: -141.97\n",
      "World of size 128 with 30 per algorithm\n",
      "Hill Climbing:\t\tbest: -433\tavg: -543.1\n",
      "Annealing:\t\tbest: -265\tavg: -302.23\n"
     ]
    }
   ],
   "source": [
    "def generate_world(size=10, max_distance=10):\n",
    "\n",
    "    # generating the world\n",
    "    world = []\n",
    "    for i in range(0, size):\n",
    "        world.append(i)\n",
    "\n",
    "    # generating the distance map\n",
    "    distances = {}\n",
    "    for city in world:\n",
    "        other_cities = world[:]\n",
    "        for other_city in other_cities:\n",
    "            dist = random.randrange(1, max_distance)\n",
    "            distances[str(city) + ' --> ' + str(other_city)] = dist\n",
    "            distances[str(other_city) + ' --> ' + str(city)] = dist\n",
    "\n",
    "    # return the generated world and distances dictionary\n",
    "    return world, distances\n",
    "\n",
    "# generate and try out some larger worlds\n",
    "world_sizes = [4, 8, 16, 32, 64, 128]\n",
    "for world_size in world_sizes:\n",
    "    cities, distances = generate_world(world_size)\n",
    "    compare_algorithms_for_this_world(cities, distances)\n"
   ]
  },
  {
   "cell_type": "markdown",
   "metadata": {},
   "source": [
    "So especially for the larger world-sizes, the simulated annealing technique seems to do significantly better, though on occasion I have seen Hill-climbing doing a smidgen better with the smaller worlds. This is probably due to the potential for simulated annealing to take potentially unoptimal paths in the hopes of a better path down the road."
   ]
  },
  {
   "cell_type": "code",
   "execution_count": 8,
   "metadata": {},
   "outputs": [],
   "source": [
    "## Question 3: Scheduling"
   ]
  },
  {
   "cell_type": "code",
   "execution_count": 9,
   "metadata": {},
   "outputs": [],
   "source": [
    "# options for the classes\n",
    "classes = 'CS-108 CS-112 CS-212 CS-214 CS-344 CS-384 CS-398'.split()\n",
    "rooms = 'NH253 SB382'.split()\n",
    "time_slots = 'MWF800 MWF900 MWF1030 TTh1030 TTh12:05'.split()\n",
    "professors = 'Adams Plantinga Schuurman Vanderlinden'.split()"
   ]
  },
  {
   "cell_type": "markdown",
   "metadata": {},
   "source": [
    "So the variables for this problem are the classes (i.e. CS-108) and the domain is the set of combinations of professors-rooms-times."
   ]
  },
  {
   "cell_type": "code",
   "execution_count": 10,
   "metadata": {},
   "outputs": [],
   "source": [
    "# all the domain possibilities\n",
    "domain_possibilities = []\n",
    "for room in rooms:\n",
    "    for time_slot in time_slots:\n",
    "        for prof in professors:\n",
    "            domain_possibilities.append(prof + \" \" + room + \" \" + time_slot)\n",
    "\n",
    "# variables : courses\n",
    "# domains : everything else\n",
    "variables = classes\n",
    "domains = {}\n",
    "for var in variables:\n",
    "    domains[var] = domain_possibilities\n"
   ]
  },
  {
   "cell_type": "markdown",
   "metadata": {},
   "source": [
    "While we can't use neighbors to trim down the size of the problem-space, we still apparently need to supply the neighbors such that everything touches everything so that the CSP algorithms actually compare everyone. You will also note that instead of trying to figure out what an empty neighbors data structure looks like, I just hard-coded a dummy neighbor before linking everybody else up."
   ]
  },
  {
   "cell_type": "code",
   "execution_count": 11,
   "metadata": {},
   "outputs": [],
   "source": [
    "# neighbors : everybody is a neighbor\n",
    "neighbors = parse_neighbors(\"\"\"CS-344: NH158 8MWF\"\"\", variables)\n",
    "for type in [classes, domain_possibilities]:\n",
    "    for A in type:\n",
    "        for B in type:\n",
    "            if A != B:\n",
    "                if B not in neighbors[A]:\n",
    "                    neighbors[A].append(B)\n",
    "                if A not in neighbors[B]:\n",
    "                    neighbors[B].append(A)"
   ]
  },
  {
   "cell_type": "markdown",
   "metadata": {},
   "source": [
    "The constraint function handles both the requirements that no professor is in two rooms at once, or that two classes meet in the same room at once. It also limits which courses can be taught by whom. It would have been possible to have pre-limited the domain so that the course assignments were respected prior to the domains creation, but this seemed simpler. Especially in larger problems, being able to shrink the domain would probably be a better solution when it is possible simply so that fewer things need to be considered in the already large problem-space."
   ]
  },
  {
   "cell_type": "code",
   "execution_count": 12,
   "metadata": {},
   "outputs": [],
   "source": [
    "# constraint function\n",
    "# ensuring that a room is acceptable\n",
    "# and that no schedule conflicts occur \n",
    "# (i.e. kvlinden can't be in two rooms at once)\n",
    "def scheduler_constraint(A, a, B, b, recurse=0):\n",
    "    prof_a = a.split()[0]\n",
    "    room_a = a.split()[1]\n",
    "    time_a = a.split()[2]\n",
    "\n",
    "    prof_b = b.split()[0]\n",
    "    room_b = b.split()[1]\n",
    "    time_b = b.split()[2]\n",
    "\n",
    "    # Schuurman must teach 108\n",
    "    if (A == \"CS-108\" and prof_a != \"Schuurman\") or (B == \"CS-108\" and prof_b != \"Schuurman\"):\n",
    "        return False\n",
    "\n",
    "    # Adams must teach 112\n",
    "    if (A == \"CS-112\" and prof_a != \"Adams\") or (B == \"CS-112\" and prof_b != \"Adams\"):\n",
    "        return False\n",
    "\n",
    "    # Plantinga must teach 212\n",
    "    if (A == \"CS-212\" and prof_a != \"Plantinga\") or (B == \"CS-212\" and prof_b != \"Plantinga\"):\n",
    "        return False\n",
    "\n",
    "    # Adams must teach 214\n",
    "    if (A == \"CS-214\" and prof_a != \"Adams\") or (B == \"CS-214\" and prof_b != \"Adams\"):\n",
    "        return False\n",
    "\n",
    "    # Vanderlinden must teach 344\n",
    "    if (A == \"CS-344\" and prof_a != \"Vanderlinden\") or (B == \"CS-344\" and prof_b != \"Vanderlinden\"):\n",
    "        return False\n",
    "\n",
    "    # Schuurman must teach 384\n",
    "    if (A == \"CS-384\" and prof_a != \"Schuurman\") or (B == \"CS-384\" and prof_b != \"Schuurman\"):\n",
    "        return False\n",
    "\n",
    "    # Vanderlinden must teach 398\n",
    "    if (A == \"CS-398\" and prof_a != \"Vanderlinden\") or (B == \"CS-398\" and prof_b != \"Vanderlinden\"):\n",
    "        return False\n",
    "\n",
    "    # professor can only teach one course at a time\n",
    "    if(prof_a == prof_b) and (time_a == time_b):\n",
    "        return False\n",
    "\n",
    "    # we can't have two courses in the same room at the same time\n",
    "    if(room_a == room_b) and (time_a == time_b):\n",
    "        return False\n",
    "\n",
    "    return True"
   ]
  },
  {
   "cell_type": "markdown",
   "metadata": {},
   "source": [
    "Finally, we can actually run the problem. I should note that the strategy I approached this with, the anti-Zebra method, was mostly gleaned from hints you gave in class and discussions I had with Brent and Logan. Approaching the problem this way feels a little more natural where the variables are more clearly what I would consider variables, rather than the property-tagging nature of the Zebra approach."
   ]
  },
  {
   "cell_type": "code",
   "execution_count": 16,
   "metadata": {},
   "outputs": [
    {
     "name": "stdout",
     "output_type": "stream",
     "text": [
      "{'CS-108': 'Schuurman NH253 MWF800', 'CS-344': 'Vanderlinden NH253 TTh12:05', 'CS-112': 'Adams NH253 MWF900', 'CS-212': 'Plantinga NH253 MWF1030', 'CS-384': 'Schuurman SB382 MWF900', 'CS-398': 'Vanderlinden SB382 MWF800', 'CS-214': 'Adams NH253 TTh1030'}\n",
      "{'CS-108': 'Schuurman NH253 TTh1030', 'CS-344': 'Vanderlinden NH253 MWF1030', 'CS-112': 'Adams SB382 MWF1030', 'CS-212': 'Plantinga SB382 MWF800', 'CS-384': 'Schuurman NH253 MWF800', 'CS-398': 'Vanderlinden NH253 MWF900', 'CS-214': 'Adams NH253 TTh12:05'}\n"
     ]
    }
   ],
   "source": [
    "problem = CSP(variables, domains, neighbors, scheduler_constraint)\n",
    "solution = backtracking_search(problem)\n",
    "print(solution)\n",
    "solution = min_conflicts(problem)\n",
    "print(solution)"
   ]
  },
  {
   "cell_type": "code",
   "execution_count": null,
   "metadata": {},
   "outputs": [],
   "source": []
  }
 ],
 "metadata": {
  "kernelspec": {
   "display_name": "Python 3",
   "language": "python",
   "name": "python3"
  },
  "language_info": {
   "codemirror_mode": {
    "name": "ipython",
    "version": 3
   },
   "file_extension": ".py",
   "mimetype": "text/x-python",
   "name": "python",
   "nbconvert_exporter": "python",
   "pygments_lexer": "ipython3",
   "version": "3.5.2"
  }
 },
 "nbformat": 4,
 "nbformat_minor": 1
}
