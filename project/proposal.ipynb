{
  "nbformat": 4,
  "nbformat_minor": 0,
  "metadata": {
    "colab": {
      "name": "proposal.ipynb",
      "version": "0.3.2",
      "provenance": [],
      "include_colab_link": true
    },
    "kernelspec": {
      "name": "python3",
      "display_name": "Python 3"
    }
  },
  "cells": [
    {
      "cell_type": "markdown",
      "metadata": {
        "id": "view-in-github",
        "colab_type": "text"
      },
      "source": [
        "<a href=\"https://colab.research.google.com/github/mjm87/cs344/blob/master/proposal.ipynb\" target=\"_parent\"><img src=\"https://colab.research.google.com/assets/colab-badge.svg\" alt=\"Open In Colab\"/></a>"
      ]
    },
    {
      "metadata": {
        "id": "h29K-y4FNztl",
        "colab_type": "text"
      },
      "cell_type": "markdown",
      "source": [
        "## Project Proposal\n",
        "\n",
        "While I'm not totally set on the project, the project I've been considering for a while is tackling the Obstacle Tower Challenge a benchmarking challenge built by Unity3d to help AI researchers have an environment to play with. From my understanding, the goal is to develop an AI that is able to guide a player through a tower of 100 different procedurally generated levels, solving simple puzzles, with the primary input being the pixels that a player would see on the screen. More information can be found here: https://blogs.unity3d.com/2019/02/18/the-obstacle-tower-challenge-is-live. I definitely don't have any hope of winning the challenge, but would be interested at trying my hand on the project. \n",
        "\n",
        "While I haven't dug too far into the sample code, it appears that there is a python api they've made available for training agents and some basic stuff to get started. \n",
        "As far as technologies involved, I'm guessing a little research into reinforced learning will be appropriate as well as potentially looking into some of the variations suggested in Unity's research paper they produced."
      ]
    }
  ]
}