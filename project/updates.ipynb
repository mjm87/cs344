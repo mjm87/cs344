{
  "nbformat": 4,
  "nbformat_minor": 0,
  "metadata": {
    "colab": {
      "name": "updates.ipynb",
      "version": "0.3.2",
      "provenance": [],
      "collapsed_sections": []
    },
    "kernelspec": {
      "name": "python3",
      "display_name": "Python 3"
    }
  },
  "cells": [
    {
      "cell_type": "code",
      "metadata": {
        "id": "j7BbSNbSCtzF",
        "colab_type": "code",
        "colab": {}
      },
      "source": [
        ""
      ],
      "execution_count": 0,
      "outputs": []
    },
    {
      "cell_type": "markdown",
      "metadata": {
        "id": "cc27sPKVCwmw",
        "colab_type": "text"
      },
      "source": [
        "By the time of the project walk-through, I'd done little besides configure my machine to work with the toolkit and to tinker around a little with the sample project *Puppo the Corgi*. \n",
        "\n",
        "Things that have happened since:\n",
        "\n",
        "- created a separate space-ship example\n",
        "- spent quite a bit of time tweaking / refining the model\n",
        "- researched a bit more and created the final report"
      ]
    }
  ]
}